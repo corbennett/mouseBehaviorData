{
 "cells": [
  {
   "cell_type": "code",
   "execution_count": 1,
   "metadata": {},
   "outputs": [],
   "source": [
    "from mouseBehavior import mouseBehaviorData as mbd\n",
    "import numpy as np\n",
    "import os, glob"
   ]
  },
  {
   "cell_type": "code",
   "execution_count": 2,
   "metadata": {},
   "outputs": [],
   "source": [
    "mouseInfo = ('469670', '470005', '478202', '477121', '473254', \n",
    "             '477120', '487461', '473248', '487460', '477810',\n",
    "             '476815', '485051', '489138', '495800')\n",
    "\n",
    "mouseInfo = np.unique(mouseInfo)"
   ]
  },
  {
   "cell_type": "code",
   "execution_count": 3,
   "metadata": {},
   "outputs": [],
   "source": [
    "#checks to see if a mouse behavior object already exists for given mouse so it doesn't have to refetch data from the network\n",
    "def checkforpickle(directory, mouseID):\n",
    "    pkllist = [f for f in os.listdir(directory) if '.pkl' in f]\n",
    "    mouseID = str(mouseID)\n",
    "    pklpath = None\n",
    "    for pkl in pkllist:\n",
    "        if pkl[:6]==mouseID:\n",
    "            pklpath = os.path.join(directory, pkl)\n",
    "    return pklpath"
   ]
  },
  {
   "cell_type": "code",
   "execution_count": 4,
   "metadata": {},
   "outputs": [
    {
     "name": "stdout",
     "output_type": "stream",
     "text": [
      "469670\n",
      "failed to load data for mouse 469670\n",
      "470005\n",
      "Found non-behavior pickle file: //allen/programs/braintv/production/visualbehavior/prod0/specimen_887093586/behavior_session_960913729\\503f5cf1cbb64ee88a1af0b3b5c7e7f8.pkl\n",
      "Found non-behavior pickle file: //allen/programs/braintv/production/visualbehavior/prod0/specimen_887093586/behavior_session_960913729\\503f5cf1cbb64ee88a1af0b3b5c7e7f8.pkl\n",
      "Found non-behavior pickle file: //allen/programs/braintv/production/visualbehavior/prod0/specimen_887093586/behavior_session_960888992\\e3805fe85b244a26b5b94aca5681efbe.pkl\n",
      "Found non-behavior pickle file: //allen/programs/braintv/production/visualbehavior/prod0/specimen_887093586/behavior_session_960237905\\098eabe0b02d4b2d9d4c3863b4af2f36.pkl\n",
      "Found non-behavior pickle file: //allen/programs/braintv/production/visualbehavior/prod0/specimen_887093586/behavior_session_960186051\\dbb1f89f52304180b9acf6f9fdcf7b24.pkl\n"
     ]
    },
    {
     "name": "stderr",
     "output_type": "stream",
     "text": [
      "mouseBehavior.py:180: RuntimeWarning: invalid value encountered in divide\n",
      "  return responses/float(denom)\n",
      "mouseBehavior.py:156: RuntimeWarning: invalid value encountered in divide\n",
      "  engagedTrialFARate = fas/float(fas+crs)\n",
      "c:\\users\\svc_ccg\\appdata\\local\\continuum\\anaconda3\\envs\\lims\\lib\\site-packages\\scipy\\stats\\_distn_infrastructure.py:1914: RuntimeWarning: invalid value encountered in greater\n",
      "  cond1 = (0 < q) & (q < 1)\n",
      "c:\\users\\svc_ccg\\appdata\\local\\continuum\\anaconda3\\envs\\lims\\lib\\site-packages\\scipy\\stats\\_distn_infrastructure.py:1914: RuntimeWarning: invalid value encountered in less\n",
      "  cond1 = (0 < q) & (q < 1)\n",
      "c:\\users\\svc_ccg\\appdata\\local\\continuum\\anaconda3\\envs\\lims\\lib\\site-packages\\pandas\\core\\indexing.py:190: SettingWithCopyWarning: \n",
      "A value is trying to be set on a copy of a slice from a DataFrame\n",
      "\n",
      "See the caveats in the documentation: http://pandas.pydata.org/pandas-docs/stable/indexing.html#indexing-view-versus-copy\n",
      "  self._setitem_with_indexer(indexer, value)\n"
     ]
    },
    {
     "name": "stdout",
     "output_type": "stream",
     "text": [
      "473248\n",
      "Found non-behavior pickle file: //allen/programs/braintv/production/visualbehavior/prod0/specimen_892343422/behavior_session_987203282\\5954fcaa94e24a5298a111175fda0993.pkl\n",
      "Found non-behavior pickle file: //allen/programs/braintv/production/visualbehavior/prod0/specimen_892343422/behavior_session_987203282\\5954fcaa94e24a5298a111175fda0993.pkl\n",
      "Found non-behavior pickle file: //allen/programs/braintv/production/visualbehavior/prod0/specimen_892343422/behavior_session_987150387\\7a2fb53edf3b44c3b8cb9e4ace30e228.pkl\n",
      "Found non-behavior pickle file: //allen/programs/braintv/production/visualbehavior/prod0/specimen_892343422/behavior_session_986321051\\3d4582e9779b4988bcd8c45176477f3c.pkl\n",
      "Found non-behavior pickle file: //allen/programs/braintv/production/visualbehavior/prod0/specimen_892343422/behavior_session_986266764\\955c47b43f9e4ce9b0283797e122b2df.pkl\n"
     ]
    },
    {
     "name": "stderr",
     "output_type": "stream",
     "text": [
      "mouseBehavior.py:160: RuntimeWarning: invalid value encountered in double_scalars\n",
      "  return z[0] - z[1]\n"
     ]
    },
    {
     "name": "stdout",
     "output_type": "stream",
     "text": [
      "473254\n",
      "Found non-behavior pickle file: //allen/programs/braintv/production/visualbehavior/prod0/specimen_893448041/behavior_session_977864592\\3b17bb055d94486582f37556ab31e85b.pkl\n",
      "Found non-behavior pickle file: //allen/programs/braintv/production/visualbehavior/prod0/specimen_893448041/behavior_session_977864592\\3b17bb055d94486582f37556ab31e85b.pkl\n",
      "Found non-behavior pickle file: //allen/programs/braintv/production/visualbehavior/prod0/specimen_893448041/behavior_session_977805472\\7c0d2f9af9ad4a3ea330c53d76169ed2.pkl\n",
      "Found non-behavior pickle file: //allen/programs/braintv/production/visualbehavior/prod0/specimen_893448041/behavior_session_977042411\\b0bc1b74fddb4b3aae35ac709e0364d0.pkl\n",
      "Found non-behavior pickle file: //allen/programs/braintv/production/visualbehavior/prod0/specimen_893448041/behavior_session_977006468\\1fa47e06e70a4a639053f4e7c101a2af.pkl\n",
      "Found non-behavior pickle file: //allen/programs/braintv/production/visualbehavior/prod0/specimen_893448041/behavior_session_976219228\\5ac22286df384f83a4516c2d76f9ce3f.pkl\n",
      "Found non-behavior pickle file: //allen/programs/braintv/production/visualbehavior/prod0/specimen_893448041/behavior_session_976195111\\b13ae14ecb3c475c9a859348138f6af5.pkl\n",
      "476815\n",
      "Found non-behavior pickle file: //allen/programs/braintv/production/visualbehavior/prod0/specimen_908077422/behavior_session_1002294151\\5ce59143c38d48379e8cebdad4d79722.pkl\n",
      "Found non-behavior pickle file: //allen/programs/braintv/production/visualbehavior/prod0/specimen_908077422/behavior_session_1002294151\\5ce59143c38d48379e8cebdad4d79722.pkl\n",
      "Found non-behavior pickle file: //allen/programs/braintv/production/visualbehavior/prod0/specimen_908077422/behavior_session_1002285785\\b806202674d2487e9ceabc8ff375d04b.pkl\n",
      "477120\n",
      "Found non-behavior pickle file: //allen/programs/braintv/production/visualbehavior/prod0/specimen_909823930/behavior_session_978234612\\869869383cc54f9b94c592a60579d3ec.pkl\n",
      "Found non-behavior pickle file: //allen/programs/braintv/production/visualbehavior/prod0/specimen_909823930/behavior_session_978234612\\869869383cc54f9b94c592a60579d3ec.pkl\n",
      "Found non-behavior pickle file: //allen/programs/braintv/production/visualbehavior/prod0/specimen_909823930/behavior_session_978213743\\5aa390345d28425e97cf616721afa3cf.pkl\n",
      "477121\n",
      "Found non-behavior pickle file: //allen/programs/braintv/production/visualbehavior/prod0/specimen_909843780/behavior_session_972664758\\ac33f860e6df439ea0a486a4e736912c.pkl\n",
      "Found non-behavior pickle file: //allen/programs/braintv/production/visualbehavior/prod0/specimen_909843780/behavior_session_972664758\\ac33f860e6df439ea0a486a4e736912c.pkl\n",
      "Found non-behavior pickle file: //allen/programs/braintv/production/visualbehavior/prod0/specimen_909843780/behavior_session_972559349\\ac7427f1729c453791919c6bb241afb2.pkl\n",
      "Found non-behavior pickle file: //allen/programs/braintv/production/visualbehavior/prod0/specimen_909843780/behavior_session_972137597\\911aa729c2d142ec988d34756bc8bf7e.pkl\n",
      "Found non-behavior pickle file: //allen/programs/braintv/production/visualbehavior/prod0/specimen_909843780/behavior_session_972110529\\f04f342ac76947f1a5dfa11af937ced8.pkl\n",
      "477810\n",
      "Found non-behavior pickle file: //allen/programs/braintv/production/visualbehavior/prod0/specimen_909590776/behavior_session_990649761\\bdcf1665ad2643228f7412cfa59df61b.pkl\n",
      "Found non-behavior pickle file: //allen/programs/braintv/production/visualbehavior/prod0/specimen_909590776/behavior_session_990649761\\bdcf1665ad2643228f7412cfa59df61b.pkl\n",
      "Found non-behavior pickle file: //allen/programs/braintv/production/visualbehavior/prod0/specimen_909590776/behavior_session_990635347\\d757e950c9804d8f88228c9354b5bbc4.pkl\n",
      "Found non-behavior pickle file: //allen/programs/braintv/production/visualbehavior/prod0/specimen_909590776/behavior_session_990362103\\539482fb9b084463af2ad825e6b3e464.pkl\n",
      "Found non-behavior pickle file: //allen/programs/braintv/production/visualbehavior/prod0/specimen_909590776/behavior_session_990351280\\0790349756bb46e79d4c0c3f51c7e137.pkl\n",
      "478202\n",
      "Found non-behavior pickle file: //allen/programs/braintv/production/visualbehavior/prod0/specimen_904840105/behavior_session_969580742\\b5fc188834484de289efbfb54ac85cb6.pkl\n",
      "Found non-behavior pickle file: //allen/programs/braintv/production/visualbehavior/prod0/specimen_904840105/behavior_session_969580742\\b5fc188834484de289efbfb54ac85cb6.pkl\n",
      "Found non-behavior pickle file: //allen/programs/braintv/production/visualbehavior/prod0/specimen_904840105/behavior_session_969565244\\df7a1d8d3f1e457d9a6cbc220ef891e0.pkl\n",
      "Found non-behavior pickle file: //allen/programs/braintv/production/visualbehavior/prod0/specimen_904840105/behavior_session_968615544\\852f3c8901494bf49cf89218ad48c5fd.pkl\n",
      "Found non-behavior pickle file: //allen/programs/braintv/production/visualbehavior/prod0/specimen_904840105/behavior_session_968591093\\72a5f4de8cb548baaaa39a079852860a.pkl\n",
      "failed to load data for mouse 478202\n",
      "485051\n",
      "487460\n",
      "Found non-behavior pickle file: //allen/programs/braintv/production/visualbehavior/prod0/specimen_941629777/behavior_session_982823792\\551c2f287b074797b9cd3f5d4fdc7297.pkl\n",
      "Found non-behavior pickle file: //allen/programs/braintv/production/visualbehavior/prod0/specimen_941629777/behavior_session_982823792\\551c2f287b074797b9cd3f5d4fdc7297.pkl\n",
      "Found non-behavior pickle file: //allen/programs/braintv/production/visualbehavior/prod0/specimen_941629777/behavior_session_982745523\\5310e99712fe4747a62001ada2f6d96a.pkl\n",
      "Found non-behavior pickle file: //allen/programs/braintv/production/visualbehavior/prod0/specimen_941629777/behavior_session_982059432\\ac0867cc2972410c8782ab21eb9ae52b.pkl\n",
      "Found non-behavior pickle file: //allen/programs/braintv/production/visualbehavior/prod0/specimen_941629777/behavior_session_982009411\\a3828b6f1ab94da5a63405cc2c3183a7.pkl\n",
      "487461\n",
      "Found non-behavior pickle file: //allen/programs/braintv/production/visualbehavior/prod0/specimen_940732891/behavior_session_989163718\\cecf82fc998f47cebb80f8b3571bd6fb.pkl\n",
      "Found non-behavior pickle file: //allen/programs/braintv/production/visualbehavior/prod0/specimen_940732891/behavior_session_989163718\\cecf82fc998f47cebb80f8b3571bd6fb.pkl\n",
      "Found non-behavior pickle file: //allen/programs/braintv/production/visualbehavior/prod0/specimen_940732891/behavior_session_989140241\\ff93d726a1894982970517528cac0ce9.pkl\n",
      "Found non-behavior pickle file: //allen/programs/braintv/production/visualbehavior/prod0/specimen_940732891/behavior_session_988253253\\aa6d4e4971594702ab2c0197d5494cdb.pkl\n",
      "Found non-behavior pickle file: //allen/programs/braintv/production/visualbehavior/prod0/specimen_940732891/behavior_session_988177938\\ee579b33de9b4b41b9374c66d18d8a04.pkl\n",
      "489138\n",
      "495800\n"
     ]
    }
   ],
   "source": [
    "#Directory where the mouse object pkls are stored\n",
    "pkldir = r\"\\\\allen\\programs\\braintv\\workgroups\\nc-ophys\\corbettb\\NP_behavior_pipeline\\behavior_sessions\\production\"\n",
    "\n",
    "#Directory where the dataframes summarizing behavior are stored (if saved separately)\n",
    "dataframe_save_dir = r\"\\\\allen\\programs\\braintv\\workgroups\\nc-ophys\\corbettb\\NP_behavior_pipeline\\behavior_sessions\\production\\dataframes\"\n",
    "\n",
    "dflist = []\n",
    "mouseids = []\n",
    "for mouse in mouseInfo:\n",
    "    if isinstance(mouseInfo[0], tuple):\n",
    "        mouse = mouse[0]\n",
    "    print(mouse)\n",
    "    \n",
    "    #First look to see if there's already a pkl file with this mouse' data\n",
    "    pklpath = checkforpickle(pkldir, mouse)\n",
    "    try:\n",
    "        # get pkl if it already exists\n",
    "        if pklpath is not None:\n",
    "            m = mbd()\n",
    "            m.loadFromPickle(pklpath)\n",
    "#             m.add_weight_and_water_history()\n",
    "#             m.calculate_behavior_metrics()\n",
    "#             m.add_metadata_to_dataframe()\n",
    "        \n",
    "        #otherwise make a new one\n",
    "        else:\n",
    "            m = mbd(mouse_id=mouse, daysBeforeHandoff=100)\n",
    "            m.buildBehaviorDataframe(all_sessions=True)\n",
    "            \n",
    "        m.saveDirectory = pkldir\n",
    "        m.saveToPickle()\n",
    "        m.save_dataframe_separately(dataframe_save_dir)\n",
    "        dflist.append(m.beh_df)\n",
    "        mouseids.append(mouse)\n",
    "    except:\n",
    "        print('failed to load data for mouse ' + mouse)\n",
    "        continue"
   ]
  },
  {
   "cell_type": "markdown",
   "metadata": {},
   "source": [
    "save population df with all mice concatenated"
   ]
  },
  {
   "cell_type": "code",
   "execution_count": null,
   "metadata": {},
   "outputs": [],
   "source": [
    "popdf = pd.concat(dflist, keys=mouseids)"
   ]
  },
  {
   "cell_type": "code",
   "execution_count": 17,
   "metadata": {},
   "outputs": [
    {
     "ename": "KeyError",
     "evalue": "'session_datetime_utc'",
     "output_type": "error",
     "traceback": [
      "\u001b[1;31m---------------------------------------------------------------------------\u001b[0m",
      "\u001b[1;31mKeyError\u001b[0m                                  Traceback (most recent call last)",
      "\u001b[1;32m<ipython-input-17-ba05e9a22fb3>\u001b[0m in \u001b[0;36m<module>\u001b[1;34m()\u001b[0m\n\u001b[0;32m      1\u001b[0m \u001b[0mm\u001b[0m \u001b[1;33m=\u001b[0m \u001b[0mmbd\u001b[0m\u001b[1;33m(\u001b[0m\u001b[0mmouse_id\u001b[0m\u001b[1;33m=\u001b[0m\u001b[0mmouse\u001b[0m\u001b[1;33m,\u001b[0m \u001b[0mdaysBeforeHandoff\u001b[0m\u001b[1;33m=\u001b[0m\u001b[1;36m100\u001b[0m\u001b[1;33m)\u001b[0m\u001b[1;33m\u001b[0m\u001b[0m\n\u001b[1;32m----> 2\u001b[1;33m \u001b[0mm\u001b[0m\u001b[1;33m.\u001b[0m\u001b[0mbuildBehaviorDataframe\u001b[0m\u001b[1;33m(\u001b[0m\u001b[0mall_sessions\u001b[0m\u001b[1;33m=\u001b[0m\u001b[0mTrue\u001b[0m\u001b[1;33m)\u001b[0m\u001b[1;33m\u001b[0m\u001b[0m\n\u001b[0m",
      "\u001b[1;32mC:\\Users\\svc_ccg\\Documents\\GitHub\\mouseBehaviorData\\mouseBehavior.py\u001b[0m in \u001b[0;36mbuildBehaviorDataframe\u001b[1;34m(self, startDate, endDate, all_sessions, overwrite_behdf)\u001b[0m\n\u001b[0;32m    181\u001b[0m \u001b[1;33m\u001b[0m\u001b[0m\n\u001b[0;32m    182\u001b[0m \u001b[1;33m\u001b[0m\u001b[0m\n\u001b[1;32m--> 183\u001b[1;33m             \u001b[0mtoAnalyze\u001b[0m \u001b[1;33m=\u001b[0m \u001b[0mself\u001b[0m\u001b[1;33m.\u001b[0m\u001b[0mbehavior_sessions\u001b[0m\u001b[1;33m[\u001b[0m\u001b[1;33m(\u001b[0m\u001b[0mself\u001b[0m\u001b[1;33m.\u001b[0m\u001b[0mbehavior_sessions\u001b[0m\u001b[1;33m[\u001b[0m\u001b[1;34m'created_at'\u001b[0m\u001b[1;33m]\u001b[0m\u001b[1;33m>=\u001b[0m\u001b[0mstartDate\u001b[0m\u001b[1;33m)\u001b[0m\u001b[1;33m&\u001b[0m\u001b[1;33m(\u001b[0m\u001b[0mself\u001b[0m\u001b[1;33m.\u001b[0m\u001b[0mbehavior_sessions\u001b[0m\u001b[1;33m[\u001b[0m\u001b[1;34m'created_at'\u001b[0m\u001b[1;33m]\u001b[0m\u001b[1;33m<\u001b[0m\u001b[0mendDate\u001b[0m\u001b[1;33m)\u001b[0m\u001b[1;33m]\u001b[0m\u001b[1;33m.\u001b[0m\u001b[0msort_values\u001b[0m\u001b[1;33m(\u001b[0m\u001b[1;34m'session_datetime_utc'\u001b[0m\u001b[1;33m,\u001b[0m \u001b[0mascending\u001b[0m\u001b[1;33m=\u001b[0m\u001b[0mFalse\u001b[0m\u001b[1;33m)\u001b[0m\u001b[1;33m\u001b[0m\u001b[0m\n\u001b[0m\u001b[0;32m    184\u001b[0m             \u001b[0mtoAnalyze\u001b[0m\u001b[1;33m[\u001b[0m\u001b[1;34m'trials'\u001b[0m\u001b[1;33m]\u001b[0m \u001b[1;33m=\u001b[0m \u001b[0mtoAnalyze\u001b[0m\u001b[1;33m.\u001b[0m\u001b[0mapply\u001b[0m\u001b[1;33m(\u001b[0m\u001b[1;32mlambda\u001b[0m \u001b[0mrow\u001b[0m\u001b[1;33m:\u001b[0m \u001b[0mself\u001b[0m\u001b[1;33m.\u001b[0m\u001b[0mgetTrialsDF\u001b[0m\u001b[1;33m(\u001b[0m\u001b[0mrow\u001b[0m\u001b[1;33m[\u001b[0m\u001b[1;34m'pklfile'\u001b[0m\u001b[1;33m]\u001b[0m\u001b[1;33m)\u001b[0m\u001b[1;33m,\u001b[0m \u001b[0maxis\u001b[0m\u001b[1;33m=\u001b[0m\u001b[1;36m1\u001b[0m\u001b[1;33m)\u001b[0m \u001b[1;31m#this trials object has all the info you need about the session\u001b[0m\u001b[1;33m\u001b[0m\u001b[0m\n\u001b[0;32m    185\u001b[0m \u001b[1;33m\u001b[0m\u001b[0m\n",
      "\u001b[1;32mc:\\anaconda2\\envs\\lims\\lib\\site-packages\\pandas\\core\\frame.pyc\u001b[0m in \u001b[0;36msort_values\u001b[1;34m(self, by, axis, ascending, inplace, kind, na_position)\u001b[0m\n\u001b[0;32m   4717\u001b[0m \u001b[1;33m\u001b[0m\u001b[0m\n\u001b[0;32m   4718\u001b[0m             \u001b[0mby\u001b[0m \u001b[1;33m=\u001b[0m \u001b[0mby\u001b[0m\u001b[1;33m[\u001b[0m\u001b[1;36m0\u001b[0m\u001b[1;33m]\u001b[0m\u001b[1;33m\u001b[0m\u001b[0m\n\u001b[1;32m-> 4719\u001b[1;33m             \u001b[0mk\u001b[0m \u001b[1;33m=\u001b[0m \u001b[0mself\u001b[0m\u001b[1;33m.\u001b[0m\u001b[0m_get_label_or_level_values\u001b[0m\u001b[1;33m(\u001b[0m\u001b[0mby\u001b[0m\u001b[1;33m,\u001b[0m \u001b[0maxis\u001b[0m\u001b[1;33m=\u001b[0m\u001b[0maxis\u001b[0m\u001b[1;33m)\u001b[0m\u001b[1;33m\u001b[0m\u001b[0m\n\u001b[0m\u001b[0;32m   4720\u001b[0m \u001b[1;33m\u001b[0m\u001b[0m\n\u001b[0;32m   4721\u001b[0m             \u001b[1;32mif\u001b[0m \u001b[0misinstance\u001b[0m\u001b[1;33m(\u001b[0m\u001b[0mascending\u001b[0m\u001b[1;33m,\u001b[0m \u001b[1;33m(\u001b[0m\u001b[0mtuple\u001b[0m\u001b[1;33m,\u001b[0m \u001b[0mlist\u001b[0m\u001b[1;33m)\u001b[0m\u001b[1;33m)\u001b[0m\u001b[1;33m:\u001b[0m\u001b[1;33m\u001b[0m\u001b[0m\n",
      "\u001b[1;32mc:\\anaconda2\\envs\\lims\\lib\\site-packages\\pandas\\core\\generic.pyc\u001b[0m in \u001b[0;36m_get_label_or_level_values\u001b[1;34m(self, key, axis)\u001b[0m\n\u001b[0;32m   1704\u001b[0m             \u001b[0mvalues\u001b[0m \u001b[1;33m=\u001b[0m \u001b[0mself\u001b[0m\u001b[1;33m.\u001b[0m\u001b[0maxes\u001b[0m\u001b[1;33m[\u001b[0m\u001b[0maxis\u001b[0m\u001b[1;33m]\u001b[0m\u001b[1;33m.\u001b[0m\u001b[0mget_level_values\u001b[0m\u001b[1;33m(\u001b[0m\u001b[0mkey\u001b[0m\u001b[1;33m)\u001b[0m\u001b[1;33m.\u001b[0m\u001b[0m_values\u001b[0m\u001b[1;33m\u001b[0m\u001b[0m\n\u001b[0;32m   1705\u001b[0m         \u001b[1;32melse\u001b[0m\u001b[1;33m:\u001b[0m\u001b[1;33m\u001b[0m\u001b[0m\n\u001b[1;32m-> 1706\u001b[1;33m             \u001b[1;32mraise\u001b[0m \u001b[0mKeyError\u001b[0m\u001b[1;33m(\u001b[0m\u001b[0mkey\u001b[0m\u001b[1;33m)\u001b[0m\u001b[1;33m\u001b[0m\u001b[0m\n\u001b[0m\u001b[0;32m   1707\u001b[0m \u001b[1;33m\u001b[0m\u001b[0m\n\u001b[0;32m   1708\u001b[0m         \u001b[1;31m# Check for duplicates\u001b[0m\u001b[1;33m\u001b[0m\u001b[1;33m\u001b[0m\u001b[0m\n",
      "\u001b[1;31mKeyError\u001b[0m: 'session_datetime_utc'"
     ]
    }
   ],
   "source": [
    "# example rig by rig analysis\n",
    "handoffready = popdf['stage'].str.contains('TRAINING_5_images_A_handoff_ready')\n",
    "hrdf = popdf.loc[handoffready]\n",
    "\n",
    "rig_rewards = hrdf.groupby(by='rig').mean()['earned_rewards']\n",
    "rig_dprime = hrdf.groupby(by='rig').mean()['engaged_dprime']\n",
    "\n",
    "rigs = hrdf.groupby(by='rig').mean().index.to_list()\n",
    "fig, ax = plt.subplots()\n",
    "#ax.plot(hrdf.groupby(by='session_day_of_week').mean()['earned_rewards'])\n",
    "ax.errorbar(np.arange(len(rig_rewards)), rig_rewards, yerr=hrdf.groupby(by='rig').sem()['earned_rewards'])\n",
    "ax.set_xlabel('rig ID')\n",
    "ax.set_ylabel('rewards earned in handoff ready')\n",
    "\n",
    "ax.set_xticks(np.arange(len(rigs)))\n",
    "ax.set_xticklabels(rigs)\n",
    "\n",
    "hrdf.groupby('rig')['id'].count()"
   ]
  }
 ],
 "metadata": {
  "kernelspec": {
   "display_name": "Python 2",
   "language": "python",
   "name": "python2"
  },
  "language_info": {
   "codemirror_mode": {
    "name": "ipython",
    "version": 2
   },
   "file_extension": ".py",
   "mimetype": "text/x-python",
   "name": "python",
   "nbconvert_exporter": "python",
   "pygments_lexer": "ipython2",
   "version": "2.7.17"
  }
 },
 "nbformat": 4,
 "nbformat_minor": 2
}
