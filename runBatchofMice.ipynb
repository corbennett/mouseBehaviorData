{
 "cells": [
  {
   "cell_type": "code",
   "execution_count": 1,
   "metadata": {},
   "outputs": [],
   "source": [
    "from mouseBehavior import mouseBehaviorData as mbd\n",
    "import numpy as np"
   ]
  },
  {
   "cell_type": "code",
   "execution_count": 12,
   "metadata": {},
   "outputs": [],
   "source": [
    "mouseInfo = (('385533',('09072018','09102018','09112018','09172018')),\n",
    "             ('390339',('09192018','09202018','09212018')),\n",
    "             ('394873',('10042018','10052018')),\n",
    "             ('403472',('10312018','11012018')),\n",
    "             ('403468',('11142018','11152018')),\n",
    "             ('412624',('11292018','11302018')),\n",
    "             ('416656',('03122019','03132019','03142019')),\n",
    "             ('409096',('03212019',)),\n",
    "             ('417882',('03262019','03272019')),\n",
    "             ('408528',('04042019','04052019')),\n",
    "             ('408527',('04102019','04112019')),\n",
    "             ('421323',('04252019','04262019')),\n",
    "             ('422856',('04302019','05012019')),\n",
    "             ('423749',('05162019','05172019')),\n",
    "             ('427937',('06062019','06072019')),\n",
    "             ('423745',('06122019','06132019')),\n",
    "             ('429084',('07112019','07122019')),\n",
    "             ('423744',('08082019','08092019')),\n",
    "             ('423750',('08132019','08142019')),\n",
    "             ('459521',('09052019','09062019')),\n",
    "             ('461027',('09122019','09132019')),\n",
    "            )"
   ]
  },
  {
   "cell_type": "code",
   "execution_count": 2,
   "metadata": {},
   "outputs": [],
   "source": [
    "mouseInfo = ('469670', '470005', '478202', '477121', '473254', '477120', '487461', '473248', '487460')\n",
    "mouseInfo = np.unique(mouseInfo)"
   ]
  },
  {
   "cell_type": "code",
   "execution_count": 3,
   "metadata": {},
   "outputs": [
    {
     "name": "stdout",
     "output_type": "stream",
     "text": [
      "469670\n",
      "failed to load data for mouse 469670\n",
      "470005\n",
      "Found non-behavior pickle file: //allen/programs/braintv/production/visualbehavior/prod0/specimen_887093586/behavior_session_960913729\\503f5cf1cbb64ee88a1af0b3b5c7e7f8.pkl\n",
      "Found non-behavior pickle file: //allen/programs/braintv/production/visualbehavior/prod0/specimen_887093586/behavior_session_960913729\\503f5cf1cbb64ee88a1af0b3b5c7e7f8.pkl\n",
      "Found non-behavior pickle file: //allen/programs/braintv/production/visualbehavior/prod0/specimen_887093586/behavior_session_960888992\\e3805fe85b244a26b5b94aca5681efbe.pkl\n",
      "Found non-behavior pickle file: //allen/programs/braintv/production/visualbehavior/prod0/specimen_887093586/behavior_session_960237905\\098eabe0b02d4b2d9d4c3863b4af2f36.pkl\n",
      "Found non-behavior pickle file: //allen/programs/braintv/production/visualbehavior/prod0/specimen_887093586/behavior_session_960186051\\dbb1f89f52304180b9acf6f9fdcf7b24.pkl\n"
     ]
    },
    {
     "name": "stderr",
     "output_type": "stream",
     "text": [
      "mouseBehavior.py:130: RuntimeWarning: invalid value encountered in divide\n",
      "  engagedTrialFARate = fas/float(fas+crs)\n",
      "c:\\anaconda2\\envs\\lims\\lib\\site-packages\\scipy\\stats\\_distn_infrastructure.py:1914: RuntimeWarning: invalid value encountered in greater\n",
      "  cond1 = (0 < q) & (q < 1)\n",
      "c:\\anaconda2\\envs\\lims\\lib\\site-packages\\scipy\\stats\\_distn_infrastructure.py:1914: RuntimeWarning: invalid value encountered in less\n",
      "  cond1 = (0 < q) & (q < 1)\n"
     ]
    },
    {
     "name": "stdout",
     "output_type": "stream",
     "text": [
      "473248\n",
      "Found non-behavior pickle file: //allen/programs/braintv/production/visualbehavior/prod0/specimen_892343422/behavior_session_987203282\\5954fcaa94e24a5298a111175fda0993.pkl\n",
      "Found non-behavior pickle file: //allen/programs/braintv/production/visualbehavior/prod0/specimen_892343422/behavior_session_987203282\\5954fcaa94e24a5298a111175fda0993.pkl\n",
      "Found non-behavior pickle file: //allen/programs/braintv/production/visualbehavior/prod0/specimen_892343422/behavior_session_987150387\\7a2fb53edf3b44c3b8cb9e4ace30e228.pkl\n",
      "Found non-behavior pickle file: //allen/programs/braintv/production/visualbehavior/prod0/specimen_892343422/behavior_session_986321051\\3d4582e9779b4988bcd8c45176477f3c.pkl\n",
      "Found non-behavior pickle file: //allen/programs/braintv/production/visualbehavior/prod0/specimen_892343422/behavior_session_986266764\\955c47b43f9e4ce9b0283797e122b2df.pkl\n"
     ]
    },
    {
     "name": "stderr",
     "output_type": "stream",
     "text": [
      "mouseBehavior.py:134: RuntimeWarning: invalid value encountered in double_scalars\n",
      "  return z[0] - z[1]\n"
     ]
    },
    {
     "name": "stdout",
     "output_type": "stream",
     "text": [
      "473254\n",
      "Found non-behavior pickle file: //allen/programs/braintv/production/visualbehavior/prod0/specimen_893448041/behavior_session_977864592\\3b17bb055d94486582f37556ab31e85b.pkl\n",
      "Found non-behavior pickle file: //allen/programs/braintv/production/visualbehavior/prod0/specimen_893448041/behavior_session_977864592\\3b17bb055d94486582f37556ab31e85b.pkl\n",
      "Found non-behavior pickle file: //allen/programs/braintv/production/visualbehavior/prod0/specimen_893448041/behavior_session_977805472\\7c0d2f9af9ad4a3ea330c53d76169ed2.pkl\n",
      "Found non-behavior pickle file: //allen/programs/braintv/production/visualbehavior/prod0/specimen_893448041/behavior_session_977042411\\b0bc1b74fddb4b3aae35ac709e0364d0.pkl\n",
      "Found non-behavior pickle file: //allen/programs/braintv/production/visualbehavior/prod0/specimen_893448041/behavior_session_977006468\\1fa47e06e70a4a639053f4e7c101a2af.pkl\n",
      "Found non-behavior pickle file: //allen/programs/braintv/production/visualbehavior/prod0/specimen_893448041/behavior_session_976219228\\5ac22286df384f83a4516c2d76f9ce3f.pkl\n",
      "Found non-behavior pickle file: //allen/programs/braintv/production/visualbehavior/prod0/specimen_893448041/behavior_session_976195111\\b13ae14ecb3c475c9a859348138f6af5.pkl\n",
      "477120\n",
      "Found non-behavior pickle file: //allen/programs/braintv/production/visualbehavior/prod0/specimen_909823930/behavior_session_978234612\\869869383cc54f9b94c592a60579d3ec.pkl\n",
      "Found non-behavior pickle file: //allen/programs/braintv/production/visualbehavior/prod0/specimen_909823930/behavior_session_978234612\\869869383cc54f9b94c592a60579d3ec.pkl\n",
      "Found non-behavior pickle file: //allen/programs/braintv/production/visualbehavior/prod0/specimen_909823930/behavior_session_978213743\\5aa390345d28425e97cf616721afa3cf.pkl\n",
      "477121\n",
      "Found non-behavior pickle file: //allen/programs/braintv/production/visualbehavior/prod0/specimen_909843780/behavior_session_972664758\\ac33f860e6df439ea0a486a4e736912c.pkl\n",
      "Found non-behavior pickle file: //allen/programs/braintv/production/visualbehavior/prod0/specimen_909843780/behavior_session_972664758\\ac33f860e6df439ea0a486a4e736912c.pkl\n",
      "Found non-behavior pickle file: //allen/programs/braintv/production/visualbehavior/prod0/specimen_909843780/behavior_session_972559349\\ac7427f1729c453791919c6bb241afb2.pkl\n",
      "Found non-behavior pickle file: //allen/programs/braintv/production/visualbehavior/prod0/specimen_909843780/behavior_session_972137597\\911aa729c2d142ec988d34756bc8bf7e.pkl\n",
      "Found non-behavior pickle file: //allen/programs/braintv/production/visualbehavior/prod0/specimen_909843780/behavior_session_972110529\\f04f342ac76947f1a5dfa11af937ced8.pkl\n",
      "478202\n",
      "Found non-behavior pickle file: //allen/programs/braintv/production/visualbehavior/prod0/specimen_904840105/behavior_session_969580742\\b5fc188834484de289efbfb54ac85cb6.pkl\n",
      "Found non-behavior pickle file: //allen/programs/braintv/production/visualbehavior/prod0/specimen_904840105/behavior_session_969580742\\b5fc188834484de289efbfb54ac85cb6.pkl\n",
      "Found non-behavior pickle file: //allen/programs/braintv/production/visualbehavior/prod0/specimen_904840105/behavior_session_969565244\\df7a1d8d3f1e457d9a6cbc220ef891e0.pkl\n",
      "Found non-behavior pickle file: //allen/programs/braintv/production/visualbehavior/prod0/specimen_904840105/behavior_session_968615544\\852f3c8901494bf49cf89218ad48c5fd.pkl\n",
      "Found non-behavior pickle file: //allen/programs/braintv/production/visualbehavior/prod0/specimen_904840105/behavior_session_968591093\\72a5f4de8cb548baaaa39a079852860a.pkl\n",
      "failed to load data for mouse 478202\n",
      "487460\n",
      "Found non-behavior pickle file: //allen/programs/braintv/production/visualbehavior/prod0/specimen_941629777/behavior_session_982823792\\551c2f287b074797b9cd3f5d4fdc7297.pkl\n",
      "Found non-behavior pickle file: //allen/programs/braintv/production/visualbehavior/prod0/specimen_941629777/behavior_session_982823792\\551c2f287b074797b9cd3f5d4fdc7297.pkl\n",
      "Found non-behavior pickle file: //allen/programs/braintv/production/visualbehavior/prod0/specimen_941629777/behavior_session_982745523\\5310e99712fe4747a62001ada2f6d96a.pkl\n",
      "Found non-behavior pickle file: //allen/programs/braintv/production/visualbehavior/prod0/specimen_941629777/behavior_session_982059432\\ac0867cc2972410c8782ab21eb9ae52b.pkl\n",
      "Found non-behavior pickle file: //allen/programs/braintv/production/visualbehavior/prod0/specimen_941629777/behavior_session_982009411\\a3828b6f1ab94da5a63405cc2c3183a7.pkl\n",
      "487461\n",
      "Found non-behavior pickle file: //allen/programs/braintv/production/visualbehavior/prod0/specimen_940732891/behavior_session_989163718\\cecf82fc998f47cebb80f8b3571bd6fb.pkl\n",
      "Found non-behavior pickle file: //allen/programs/braintv/production/visualbehavior/prod0/specimen_940732891/behavior_session_989163718\\cecf82fc998f47cebb80f8b3571bd6fb.pkl\n",
      "Found non-behavior pickle file: //allen/programs/braintv/production/visualbehavior/prod0/specimen_940732891/behavior_session_989140241\\ff93d726a1894982970517528cac0ce9.pkl\n",
      "Found non-behavior pickle file: //allen/programs/braintv/production/visualbehavior/prod0/specimen_940732891/behavior_session_988253253\\aa6d4e4971594702ab2c0197d5494cdb.pkl\n",
      "Found non-behavior pickle file: //allen/programs/braintv/production/visualbehavior/prod0/specimen_940732891/behavior_session_988177938\\ee579b33de9b4b41b9374c66d18d8a04.pkl\n"
     ]
    }
   ],
   "source": [
    "for mouse in mouseInfo:\n",
    "    if isinstance(mouseInfo[0], tuple):\n",
    "        mouse = mouse[0]\n",
    "    print(mouse)\n",
    "    try:\n",
    "        m = mbd(mouse_id=mouse, daysBeforeHandoff=100)\n",
    "        m.buildBehaviorDataframe(all_sessions=True)\n",
    "        m.saveDirectory = r\"\\\\allen\\programs\\braintv\\workgroups\\nc-ophys\\corbettb\\NP_behavior_pipeline\\behavior_sessions\\production\"\n",
    "        m.saveToPickle()\n",
    "    except:\n",
    "        print('failed to load data for mouse ' + mouse)\n",
    "        continue"
   ]
  },
  {
   "cell_type": "code",
   "execution_count": 17,
   "metadata": {},
   "outputs": [
    {
     "ename": "KeyError",
     "evalue": "'session_datetime_utc'",
     "output_type": "error",
     "traceback": [
      "\u001b[1;31m---------------------------------------------------------------------------\u001b[0m",
      "\u001b[1;31mKeyError\u001b[0m                                  Traceback (most recent call last)",
      "\u001b[1;32m<ipython-input-17-ba05e9a22fb3>\u001b[0m in \u001b[0;36m<module>\u001b[1;34m()\u001b[0m\n\u001b[0;32m      1\u001b[0m \u001b[0mm\u001b[0m \u001b[1;33m=\u001b[0m \u001b[0mmbd\u001b[0m\u001b[1;33m(\u001b[0m\u001b[0mmouse_id\u001b[0m\u001b[1;33m=\u001b[0m\u001b[0mmouse\u001b[0m\u001b[1;33m,\u001b[0m \u001b[0mdaysBeforeHandoff\u001b[0m\u001b[1;33m=\u001b[0m\u001b[1;36m100\u001b[0m\u001b[1;33m)\u001b[0m\u001b[1;33m\u001b[0m\u001b[0m\n\u001b[1;32m----> 2\u001b[1;33m \u001b[0mm\u001b[0m\u001b[1;33m.\u001b[0m\u001b[0mbuildBehaviorDataframe\u001b[0m\u001b[1;33m(\u001b[0m\u001b[0mall_sessions\u001b[0m\u001b[1;33m=\u001b[0m\u001b[0mTrue\u001b[0m\u001b[1;33m)\u001b[0m\u001b[1;33m\u001b[0m\u001b[0m\n\u001b[0m",
      "\u001b[1;32mC:\\Users\\svc_ccg\\Documents\\GitHub\\mouseBehaviorData\\mouseBehavior.py\u001b[0m in \u001b[0;36mbuildBehaviorDataframe\u001b[1;34m(self, startDate, endDate, all_sessions, overwrite_behdf)\u001b[0m\n\u001b[0;32m    181\u001b[0m \u001b[1;33m\u001b[0m\u001b[0m\n\u001b[0;32m    182\u001b[0m \u001b[1;33m\u001b[0m\u001b[0m\n\u001b[1;32m--> 183\u001b[1;33m             \u001b[0mtoAnalyze\u001b[0m \u001b[1;33m=\u001b[0m \u001b[0mself\u001b[0m\u001b[1;33m.\u001b[0m\u001b[0mbehavior_sessions\u001b[0m\u001b[1;33m[\u001b[0m\u001b[1;33m(\u001b[0m\u001b[0mself\u001b[0m\u001b[1;33m.\u001b[0m\u001b[0mbehavior_sessions\u001b[0m\u001b[1;33m[\u001b[0m\u001b[1;34m'created_at'\u001b[0m\u001b[1;33m]\u001b[0m\u001b[1;33m>=\u001b[0m\u001b[0mstartDate\u001b[0m\u001b[1;33m)\u001b[0m\u001b[1;33m&\u001b[0m\u001b[1;33m(\u001b[0m\u001b[0mself\u001b[0m\u001b[1;33m.\u001b[0m\u001b[0mbehavior_sessions\u001b[0m\u001b[1;33m[\u001b[0m\u001b[1;34m'created_at'\u001b[0m\u001b[1;33m]\u001b[0m\u001b[1;33m<\u001b[0m\u001b[0mendDate\u001b[0m\u001b[1;33m)\u001b[0m\u001b[1;33m]\u001b[0m\u001b[1;33m.\u001b[0m\u001b[0msort_values\u001b[0m\u001b[1;33m(\u001b[0m\u001b[1;34m'session_datetime_utc'\u001b[0m\u001b[1;33m,\u001b[0m \u001b[0mascending\u001b[0m\u001b[1;33m=\u001b[0m\u001b[0mFalse\u001b[0m\u001b[1;33m)\u001b[0m\u001b[1;33m\u001b[0m\u001b[0m\n\u001b[0m\u001b[0;32m    184\u001b[0m             \u001b[0mtoAnalyze\u001b[0m\u001b[1;33m[\u001b[0m\u001b[1;34m'trials'\u001b[0m\u001b[1;33m]\u001b[0m \u001b[1;33m=\u001b[0m \u001b[0mtoAnalyze\u001b[0m\u001b[1;33m.\u001b[0m\u001b[0mapply\u001b[0m\u001b[1;33m(\u001b[0m\u001b[1;32mlambda\u001b[0m \u001b[0mrow\u001b[0m\u001b[1;33m:\u001b[0m \u001b[0mself\u001b[0m\u001b[1;33m.\u001b[0m\u001b[0mgetTrialsDF\u001b[0m\u001b[1;33m(\u001b[0m\u001b[0mrow\u001b[0m\u001b[1;33m[\u001b[0m\u001b[1;34m'pklfile'\u001b[0m\u001b[1;33m]\u001b[0m\u001b[1;33m)\u001b[0m\u001b[1;33m,\u001b[0m \u001b[0maxis\u001b[0m\u001b[1;33m=\u001b[0m\u001b[1;36m1\u001b[0m\u001b[1;33m)\u001b[0m \u001b[1;31m#this trials object has all the info you need about the session\u001b[0m\u001b[1;33m\u001b[0m\u001b[0m\n\u001b[0;32m    185\u001b[0m \u001b[1;33m\u001b[0m\u001b[0m\n",
      "\u001b[1;32mc:\\anaconda2\\envs\\lims\\lib\\site-packages\\pandas\\core\\frame.pyc\u001b[0m in \u001b[0;36msort_values\u001b[1;34m(self, by, axis, ascending, inplace, kind, na_position)\u001b[0m\n\u001b[0;32m   4717\u001b[0m \u001b[1;33m\u001b[0m\u001b[0m\n\u001b[0;32m   4718\u001b[0m             \u001b[0mby\u001b[0m \u001b[1;33m=\u001b[0m \u001b[0mby\u001b[0m\u001b[1;33m[\u001b[0m\u001b[1;36m0\u001b[0m\u001b[1;33m]\u001b[0m\u001b[1;33m\u001b[0m\u001b[0m\n\u001b[1;32m-> 4719\u001b[1;33m             \u001b[0mk\u001b[0m \u001b[1;33m=\u001b[0m \u001b[0mself\u001b[0m\u001b[1;33m.\u001b[0m\u001b[0m_get_label_or_level_values\u001b[0m\u001b[1;33m(\u001b[0m\u001b[0mby\u001b[0m\u001b[1;33m,\u001b[0m \u001b[0maxis\u001b[0m\u001b[1;33m=\u001b[0m\u001b[0maxis\u001b[0m\u001b[1;33m)\u001b[0m\u001b[1;33m\u001b[0m\u001b[0m\n\u001b[0m\u001b[0;32m   4720\u001b[0m \u001b[1;33m\u001b[0m\u001b[0m\n\u001b[0;32m   4721\u001b[0m             \u001b[1;32mif\u001b[0m \u001b[0misinstance\u001b[0m\u001b[1;33m(\u001b[0m\u001b[0mascending\u001b[0m\u001b[1;33m,\u001b[0m \u001b[1;33m(\u001b[0m\u001b[0mtuple\u001b[0m\u001b[1;33m,\u001b[0m \u001b[0mlist\u001b[0m\u001b[1;33m)\u001b[0m\u001b[1;33m)\u001b[0m\u001b[1;33m:\u001b[0m\u001b[1;33m\u001b[0m\u001b[0m\n",
      "\u001b[1;32mc:\\anaconda2\\envs\\lims\\lib\\site-packages\\pandas\\core\\generic.pyc\u001b[0m in \u001b[0;36m_get_label_or_level_values\u001b[1;34m(self, key, axis)\u001b[0m\n\u001b[0;32m   1704\u001b[0m             \u001b[0mvalues\u001b[0m \u001b[1;33m=\u001b[0m \u001b[0mself\u001b[0m\u001b[1;33m.\u001b[0m\u001b[0maxes\u001b[0m\u001b[1;33m[\u001b[0m\u001b[0maxis\u001b[0m\u001b[1;33m]\u001b[0m\u001b[1;33m.\u001b[0m\u001b[0mget_level_values\u001b[0m\u001b[1;33m(\u001b[0m\u001b[0mkey\u001b[0m\u001b[1;33m)\u001b[0m\u001b[1;33m.\u001b[0m\u001b[0m_values\u001b[0m\u001b[1;33m\u001b[0m\u001b[0m\n\u001b[0;32m   1705\u001b[0m         \u001b[1;32melse\u001b[0m\u001b[1;33m:\u001b[0m\u001b[1;33m\u001b[0m\u001b[0m\n\u001b[1;32m-> 1706\u001b[1;33m             \u001b[1;32mraise\u001b[0m \u001b[0mKeyError\u001b[0m\u001b[1;33m(\u001b[0m\u001b[0mkey\u001b[0m\u001b[1;33m)\u001b[0m\u001b[1;33m\u001b[0m\u001b[0m\n\u001b[0m\u001b[0;32m   1707\u001b[0m \u001b[1;33m\u001b[0m\u001b[0m\n\u001b[0;32m   1708\u001b[0m         \u001b[1;31m# Check for duplicates\u001b[0m\u001b[1;33m\u001b[0m\u001b[1;33m\u001b[0m\u001b[0m\n",
      "\u001b[1;31mKeyError\u001b[0m: 'session_datetime_utc'"
     ]
    }
   ],
   "source": [
    "m = mbd(mouse_id=mouse, daysBeforeHandoff=100)\n",
    "m.buildBehaviorDataframe(all_sessions=True)"
   ]
  },
  {
   "cell_type": "code",
   "execution_count": 7,
   "metadata": {},
   "outputs": [
    {
     "data": {
      "text/plain": [
       "1      NP.3\n",
       "2      NP.3\n",
       "3      NP.3\n",
       "4      NP.3\n",
       "5      NP.3\n",
       "6      NP.3\n",
       "7      NP.3\n",
       "8      NP.3\n",
       "9      NP.3\n",
       "10     NP.3\n",
       "11     NP.3\n",
       "12     NP.3\n",
       "13     NP.3\n",
       "14     NP.3\n",
       "15     NP.3\n",
       "16     NP.3\n",
       "17     NP.3\n",
       "18     NP.3\n",
       "19     NP.3\n",
       "20     NP.3\n",
       "21     NP.3\n",
       "22     NP.3\n",
       "23     NP.3\n",
       "24     NP.3\n",
       "25     NP.3\n",
       "26     NP.3\n",
       "27     NP.3\n",
       "28     NP.3\n",
       "29     NP.3\n",
       "30     NP.3\n",
       "      ...  \n",
       "41    BEH.F\n",
       "42    BEH.F\n",
       "43    BEH.F\n",
       "44    BEH.F\n",
       "45    BEH.F\n",
       "46    BEH.F\n",
       "47    BEH.F\n",
       "48    BEH.F\n",
       "49    BEH.F\n",
       "50    BEH.F\n",
       "51    BEH.F\n",
       "52    BEH.F\n",
       "53    BEH.F\n",
       "54    BEH.F\n",
       "55    BEH.F\n",
       "56    BEH.F\n",
       "57    BEH.F\n",
       "58    BEH.F\n",
       "59    BEH.F\n",
       "60    BEH.F\n",
       "61    BEH.F\n",
       "62    BEH.F\n",
       "63    BEH.F\n",
       "64    BEH.F\n",
       "65    BEH.F\n",
       "66    BEH.F\n",
       "67    BEH.F\n",
       "68    BEH.F\n",
       "69    BEH.F\n",
       "70    BEH.F\n",
       "Name: rig, Length: 70, dtype: object"
      ]
     },
     "execution_count": 7,
     "metadata": {},
     "output_type": "execute_result"
    }
   ],
   "source": [
    "m.beh_df['rig']"
   ]
  },
  {
   "cell_type": "code",
   "execution_count": 8,
   "metadata": {},
   "outputs": [
    {
     "name": "stderr",
     "output_type": "stream",
     "text": [
      "mouseBehavior.py:134: RuntimeWarning: invalid value encountered in double_scalars\n",
      "  return z[0] - z[1]\n"
     ]
    },
    {
     "data": {
      "text/plain": [
       "1         NP3\n",
       "2         NP3\n",
       "3         NP3\n",
       "4         NP3\n",
       "5         NP3\n",
       "6         NP3\n",
       "7         NP3\n",
       "8         NP3\n",
       "9         NP3\n",
       "10        NP3\n",
       "11        NP3\n",
       "12        NP3\n",
       "13        NP3\n",
       "14        NP3\n",
       "15        NP3\n",
       "16        NP3\n",
       "17        NP3\n",
       "18        NP3\n",
       "19        NP3\n",
       "20        NP3\n",
       "21        NP3\n",
       "22        NP3\n",
       "23        NP3\n",
       "24        NP3\n",
       "25        NP3\n",
       "26        NP3\n",
       "27        NP3\n",
       "28        NP3\n",
       "29        NP3\n",
       "30        NP3\n",
       "       ...   \n",
       "41         F3\n",
       "42         F3\n",
       "43         F3\n",
       "44         F3\n",
       "45         F3\n",
       "46         F3\n",
       "47         F3\n",
       "48         F3\n",
       "49         F3\n",
       "50         F3\n",
       "51         F3\n",
       "52         F3\n",
       "53         F3\n",
       "54         F3\n",
       "55         F3\n",
       "56         F3\n",
       "57         F3\n",
       "58         F3\n",
       "59         F3\n",
       "60         F3\n",
       "61         F3\n",
       "62         F3\n",
       "63         F3\n",
       "64         F3\n",
       "65         F6\n",
       "66    unknown\n",
       "67    unknown\n",
       "68         F2\n",
       "69         F2\n",
       "70         F5\n",
       "Name: rig, Length: 70, dtype: object"
      ]
     },
     "execution_count": 8,
     "metadata": {},
     "output_type": "execute_result"
    }
   ],
   "source": [
    "m.buildBehaviorDataframe(all_sessions=True)\n",
    "m.beh_df['rig']"
   ]
  },
  {
   "cell_type": "code",
   "execution_count": null,
   "metadata": {},
   "outputs": [],
   "source": []
  }
 ],
 "metadata": {
  "kernelspec": {
   "display_name": "Python 2",
   "language": "python",
   "name": "python2"
  },
  "language_info": {
   "codemirror_mode": {
    "name": "ipython",
    "version": 2
   },
   "file_extension": ".py",
   "mimetype": "text/x-python",
   "name": "python",
   "nbconvert_exporter": "python",
   "pygments_lexer": "ipython2",
   "version": "2.7.17"
  }
 },
 "nbformat": 4,
 "nbformat_minor": 2
}
