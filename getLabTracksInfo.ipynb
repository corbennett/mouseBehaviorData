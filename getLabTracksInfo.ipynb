{
 "cells": [
  {
   "cell_type": "code",
   "execution_count": 1,
   "metadata": {},
   "outputs": [],
   "source": [
    "import labTracksQuery as ltq\n",
    "import pandas as pd\n",
    "import numpy as np"
   ]
  },
  {
   "cell_type": "code",
   "execution_count": 2,
   "metadata": {},
   "outputs": [],
   "source": [
    "mouse_id = '470005'"
   ]
  },
  {
   "cell_type": "code",
   "execution_count": 3,
   "metadata": {},
   "outputs": [],
   "source": [
    "q = ltq.get_labtracks_animals_entry(mouse_id)"
   ]
  },
  {
   "cell_type": "code",
   "execution_count": 4,
   "metadata": {},
   "outputs": [
    {
     "data": {
      "text/plain": [
       "{'Animal_Disposal_Rent_Item_ID': None,\n",
       " 'Animal_Status': u'A',\n",
       " 'Animal_Transfer_Rent_Item_ID': None,\n",
       " 'Arrival_Date': None,\n",
       " 'Barrier_ID': None,\n",
       " 'Biopsy_Date': None,\n",
       " 'Bkg_Percent': 0.39,\n",
       " 'Breeding_End': None,\n",
       " 'Breeding_Start': None,\n",
       " 'Cage_ID': -99999999999999.0,\n",
       " 'Class_Def_ID': 212.0,\n",
       " 'Class_Values': u'<?xml version=\"1.0\" encoding=\"utf-16\"?>\\r\\n<MouseCustomClass xmlns:xsd=\"http://www.w3.org/2001/XMLSchema\" xmlns:xsi=\"http://www.w3.org/2001/XMLSchema-instance\">\\r\\n  <Reserved_by>Visual Behavior</Reserved_by>\\r\\n  <Reserve_Date>2019-05-29T00:00:00-07:00</Reserve_Date>\\r\\n  <Reason>Tg Char NP VB</Reason>\\r\\n  <Solution>1xPBS</Solution>\\r\\n  <Full_Genotype>Pvalb-IRES-Cre/wt;Ai32(RCL-ChR2(H134R)_EYFP)/wt</Full_Genotype>\\r\\n  <Phenotype>P47: 19.85g.</Phenotype>\\r\\n</MouseCustomClass>',\n",
       " 'Created_By': 26864.0,\n",
       " 'Death_Date': datetime.datetime(2019, 10, 4, 0, 0),\n",
       " 'Facility_ID': 4113121.0,\n",
       " 'Foster_Female_ID': None,\n",
       " 'GC_Number': u'G1024',\n",
       " 'Generation': -899999990.0,\n",
       " 'Grant_Id': 878878.0,\n",
       " 'Group_ID': 8119645.0,\n",
       " 'HO_Genetic_Status': None,\n",
       " 'HO_New_Genetic_Line': None,\n",
       " 'HO_Origin': None,\n",
       " 'HO_Purpose': None,\n",
       " 'ID': 470005.0,\n",
       " 'Implantation_Date': None,\n",
       " 'Investigator_ID': 12794.0,\n",
       " 'Is_Dead': u'Y',\n",
       " 'Is_Hidden': u'Y',\n",
       " 'Late_Birth_Date': None,\n",
       " 'Litter_History_ID': 713595.0,\n",
       " 'Maternal_Index': 421100.0,\n",
       " 'Modified_By': 28751.0,\n",
       " 'Order_ID': None,\n",
       " 'Paternal_Index': 421793.0,\n",
       " 'Placement_Time': None,\n",
       " 'Rent_Item_ID': None,\n",
       " 'Row_Created': datetime.datetime(2019, 4, 25, 10, 40, 1, 527000),\n",
       " 'Row_Modified': datetime.datetime(2019, 10, 4, 13, 19, 23, 10000),\n",
       " 'Shipping_Status': u'N',\n",
       " 'Species_ID': 5.0,\n",
       " 'Strain_ID': None,\n",
       " 'Vasectomized_Male_ID': None,\n",
       " 'Vendor_ID': None,\n",
       " 'acuc_link_id': 360293.0,\n",
       " 'birth_date': datetime.datetime(2019, 4, 21, 0, 0),\n",
       " 'coat_color': u'black',\n",
       " 'composite_pednum': u'Pvalb-IRES-Cre;Ai32-470005',\n",
       " 'death_cause': u'Perfused',\n",
       " 'disposition': u'sacrificed',\n",
       " 'disposition_date': datetime.datetime(2019, 10, 4, 0, 0),\n",
       " 'ear_code': None,\n",
       " 'filial_backcross': None,\n",
       " 'filial_generation': None,\n",
       " 'g_user_1': u'CRE+',\n",
       " 'g_user_2': u'HET-Rosa26+',\n",
       " 'g_user_3': None,\n",
       " 'g_user_4': None,\n",
       " 'genotype': None,\n",
       " 'mouse_comment': u'PF 10/4/19',\n",
       " 'other_value': None,\n",
       " 'pedigree_number': 470005.0,\n",
       " 'pedigree_prefix': u'Pvalb-IRES-Cre;Ai32',\n",
       " 'pedigree_suffix': u'',\n",
       " 'sex': u'M',\n",
       " 'strain_code': None,\n",
       " 'study_number': u'TR - Vivarium',\n",
       " 'tailtip_date': None,\n",
       " 'tattoo': u'0',\n",
       " 'transponder_code': None,\n",
       " 'usda_code': None,\n",
       " 'wean_date': datetime.datetime(2019, 5, 13, 0, 0)}"
      ]
     },
     "execution_count": 4,
     "metadata": {},
     "output_type": "execute_result"
    }
   ],
   "source": []
  },
  {
   "cell_type": "code",
   "execution_count": null,
   "metadata": {},
   "outputs": [],
   "source": []
  }
 ],
 "metadata": {
  "kernelspec": {
   "display_name": "Python 2",
   "language": "python",
   "name": "python2"
  },
  "language_info": {
   "codemirror_mode": {
    "name": "ipython",
    "version": 2
   },
   "file_extension": ".py",
   "mimetype": "text/x-python",
   "name": "python",
   "nbconvert_exporter": "python",
   "pygments_lexer": "ipython2",
   "version": "2.7.17"
  }
 },
 "nbformat": 4,
 "nbformat_minor": 2
}
